{
 "cells": [
  {
   "cell_type": "code",
   "execution_count": null,
   "id": "0d55971b-82e4-4cda-b238-5e9820ca812d",
   "metadata": {},
   "outputs": [],
   "source": []
  },
  {
   "cell_type": "code",
   "execution_count": 5,
   "id": "77aba031-dc39-4929-a0a8-a1456e472050",
   "metadata": {},
   "outputs": [],
   "source": [
    "import pandas as pd\n",
    "import numpy as np\n",
    "import pickle\n",
    "from keras.datasets import mnist\n",
    "import matplotlib.pyplot as plt"
   ]
  },
  {
   "cell_type": "code",
   "execution_count": 6,
   "id": "8b3b901e-32e0-4066-9c6a-bbdf881b6bb6",
   "metadata": {},
   "outputs": [],
   "source": [
    "def ReLU(Z):\n",
    "    return np.maximum(Z,0)"
   ]
  },
  {
   "cell_type": "code",
   "execution_count": 7,
   "id": "a47a1cd2-3985-4384-a5b1-306bb4fc7af4",
   "metadata": {},
   "outputs": [],
   "source": [
    "def derivative_ReLU(Z):\n",
    "    return Z > 0"
   ]
  },
  {
   "cell_type": "code",
   "execution_count": 8,
   "id": "1f7654b6-4128-4409-9b1c-13ae01e967ba",
   "metadata": {},
   "outputs": [],
   "source": [
    "def softmax(Z):\n",
    "    \"\"\"Compute softmax values for each sets of scores in x.\"\"\"\n",
    "    exp = np.exp(Z - np.max(Z)) #le np.max(Z) evite un overflow en diminuant le contenu de exp\n",
    "    return exp / exp.sum(axis=0)"
   ]
  },
  {
   "cell_type": "code",
   "execution_count": 257,
   "id": "8676684f-b491-4b97-9d0e-8f49fc31b806",
   "metadata": {},
   "outputs": [],
   "source": [
    "def init_params(size):\n",
    "    W1 = np.random.rand(10,size) - 0.5\n",
    "    b1 = np.random.rand(10,1) - 0.5\n",
    "    W2 = np.random.rand(10,10) - 0.5\n",
    "    b2 = np.random.rand(10,1) - 0.5\n",
    "    return W1,b1,W2,b2"
   ]
  },
  {
   "cell_type": "code",
   "execution_count": 258,
   "id": "096e7cca-d99e-4781-8e0b-601fbebf9e6f",
   "metadata": {},
   "outputs": [],
   "source": [
    "def forward_propagation(X,W1,b1,W2,b2):\n",
    "    Z1 = W1.dot(X) + b1 #10, m\n",
    "    A1 = ReLU(Z1) # 10,m\n",
    "    Z2 = W2.dot(A1) + b2 #10,m\n",
    "    A2 = softmax(Z2) #10,m\n",
    "    return Z1, A1, Z2, A2"
   ]
  },
  {
   "cell_type": "code",
   "execution_count": 259,
   "id": "cbb71de6-dbe5-4263-80db-ca027140241f",
   "metadata": {},
   "outputs": [],
   "source": [
    "def one_hot(Y):\n",
    "    ''' return an 0 vector with 1 only in the position correspondind to the value in Y'''\n",
    "    one_hot_Y = np.zeros((Y.max()+1,Y.size)) \n",
    "    one_hot_Y[Y,np.arange(Y.size)] = 1\n",
    "    return one_hot_Y"
   ]
  },
  {
   "cell_type": "code",
   "execution_count": 260,
   "id": "e10349c4-c077-4146-a11c-5a398e82e30a",
   "metadata": {},
   "outputs": [],
   "source": [
    "def backward_propagation(X, Y, A1, A2, W2, Z1, m):\n",
    "    one_hot_Y = one_hot(Y)\n",
    "    dZ2 = 2*(A2 - one_hot_Y) #10,m\n",
    "    dW2 = 1/m * (dZ2.dot(A1.T)) # 10 , 10\n",
    "    db2 = 1/m * np.sum(dZ2,1) # 10, 1\n",
    "    dZ1 = W2.T.dot(dZ2)*derivative_ReLU(Z1) # 10, m\n",
    "    dW1 = 1/m * (dZ1.dot(X.T)) #10, 784\n",
    "    db1 = 1/m * np.sum(dZ1,1) # 10, 1\n",
    "\n",
    "    return dW1, db1, dW2, db2"
   ]
  },
  {
   "cell_type": "code",
   "execution_count": 261,
   "id": "68b79bf1-dda0-40d3-8603-cf0a77bba2ae",
   "metadata": {},
   "outputs": [],
   "source": [
    "def update_params(alpha, W1, b1, W2, b2, dW1, db1, dW2, db2):\n",
    "    W1 -= alpha * dW1\n",
    "    b1 -= alpha * np.reshape(db1, (10,1))\n",
    "    W2 -= alpha * dW2\n",
    "    b2 -= alpha * np.reshape(db2, (10,1))\n",
    "\n",
    "    return W1, b1, W2, b2"
   ]
  },
  {
   "cell_type": "code",
   "execution_count": 262,
   "id": "9deb83f8-ec39-469c-85d5-879d0c253162",
   "metadata": {},
   "outputs": [],
   "source": [
    "def get_predictions(A2):\n",
    "    return np.argmax(A2, 0)"
   ]
  },
  {
   "cell_type": "code",
   "execution_count": 263,
   "id": "c779b063-8386-4e6c-b8d2-23df7cfef2c4",
   "metadata": {},
   "outputs": [],
   "source": [
    "def get_accuracy(predictions, Y):\n",
    "    return np.sum(predictions == Y)/Y.size"
   ]
  },
  {
   "cell_type": "code",
   "execution_count": 264,
   "id": "8f787a58-18c4-4720-a184-fbf0325de64c",
   "metadata": {},
   "outputs": [],
   "source": [
    "def gradient_descent(X, Y, alpha, iterations):\n",
    "    size , m = X.shape\n",
    "\n",
    "    W1, b1, W2, b2 = init_params(size)\n",
    "    for i in range(iterations):\n",
    "        Z1, A1, Z2, A2 = forward_propagation(X, W1, b1, W2, b2)\n",
    "        dW1, db1, dW2, db2 = backward_propagation(X, Y, A1, A2, W2, Z1, m)\n",
    "\n",
    "        W1, b1, W2, b2 = update_params(alpha, W1, b1, W2, b2, dW1, db1, dW2, db2)   \n",
    "\n",
    "        if (i+1) % int(iterations/10) == 0:\n",
    "            print(f\"Iteration: {i+1} / {iterations}\")\n",
    "            prediction = get_predictions(A2)\n",
    "            print(f'{get_accuracy(prediction, Y):.3%}')\n",
    "    return W1, b1, W2, b2"
   ]
  },
  {
   "cell_type": "code",
   "execution_count": 265,
   "id": "9ddf1e5c-1db2-4137-ba66-862e26b8b1f4",
   "metadata": {},
   "outputs": [],
   "source": [
    "def make_predictions(X, W1 ,b1, W2, b2):\n",
    "    _, _, _, A2 = forward_propagation(X, W1, b1, W2, b2)\n",
    "    predictions = get_predictions(A2)\n",
    "    return predictions"
   ]
  },
  {
   "cell_type": "code",
   "execution_count": 288,
   "id": "7ab1589d-6093-4019-9a23-2a86ca2364bb",
   "metadata": {},
   "outputs": [],
   "source": [
    "def show_prediction(index,X, Y, W1, b1, W2, b2):\n",
    "    # None => cree un nouvel axe de dimension 1, cela a pour effet de transposer X[:,index] qui un np.array de dimension 1 (ligne) et qui devient un vecteur (colonne)\n",
    "    #  ce qui correspond bien a ce qui est demande par make_predictions qui attend une matrice dont les colonnes sont les pixels de l'image, la on donne une seule colonne\n",
    "    vect_X = X[:, index,None]\n",
    "    prediction = make_predictions(vect_X, W1, b1, W2, b2)\n",
    "    label = Y[index]\n",
    "    print(\"Prediction: \", prediction)\n",
    "    print(\"Label: \", label)\n",
    "\n",
    "    current_image = vect_X.reshape((WIDTH, HEIGHT)) * SCALE_FACTOR\n",
    "    plt.figure(figsize = (200,2))\n",
    "    plt.gray()\n",
    "    plt.imshow(current_image, interpolation='nearest')\n",
    "    plt.show()"
   ]
  },
  {
   "cell_type": "code",
   "execution_count": 295,
   "id": "a3ee2bc6",
   "metadata": {},
   "outputs": [],
   "source": [
    "def show_wrong_predictions(index_range,X, Y, W1, b1, W2, b2,num_samples=5):\n",
    "    count = 0\n",
    "    start= index_range[0]\n",
    "    end = index_range[1]\n",
    "    \n",
    "    for i in range(start,end):\n",
    "        if count >=num_samples:\n",
    "            break\n",
    "        vect_X = X[:, i,None]\n",
    "        prediction = make_predictions(vect_X, W1, b1, W2, b2)\n",
    "        label = Y[i]\n",
    "        if prediction != label:\n",
    "            count += 1\n",
    "            print(\"Prediction: \", prediction)\n",
    "            print(\"Label: \", label)\n",
    "\n",
    "            current_image = vect_X.reshape((WIDTH, HEIGHT)) * SCALE_FACTOR\n",
    "\n",
    "            plt.gray()\n",
    "            plt.figure(figsize = (20,4))\n",
    "            plt.imshow(current_image, interpolation='nearest')\n",
    "    print(count)"
   ]
  },
  {
   "cell_type": "code",
   "execution_count": 268,
   "id": "c4c2d6c8",
   "metadata": {},
   "outputs": [],
   "source": [
    "def error_details(index_range,X, Y, W1, b1, W2, b2):\n",
    "    count = 0\n",
    "    start= index_range[0]\n",
    "    end = index_range[1]\n",
    "    a = list(range(10))\n",
    "    d = {i:0 for i in a}\n",
    "    \n",
    "    for i in range(start,end):\n",
    "        vect_X = X[:, i,None]\n",
    "        prediction = make_predictions(vect_X, W1, b1, W2, b2)\n",
    "        label = Y[i]\n",
    "        if label != prediction:\n",
    "            count += 1\n",
    "            d[label] += 1\n",
    "    sorted_d = dict(sorted(d.items(), key=lambda x:x[1],reverse=True))\n",
    "    print(f'Total incorrect predictions in range:  {count}')\n",
    "    print(f'Prediction Accuracy in range:  {(count/(end-start)*100):.2f}')\n",
    "    print(f'Error summary:  {sorted_d}')\n",
    "    \n",
    "    plot_bar_graph(sorted_d)\n",
    "        "
   ]
  },
  {
   "cell_type": "code",
   "execution_count": 269,
   "id": "63a9dc38",
   "metadata": {},
   "outputs": [],
   "source": [
    "def plot_bar_graph(d):\n",
    "\n",
    "    characters = list(d.keys())\n",
    "    values = list(d.values())\n",
    "\n",
    "    fig = plt.figure(figsize = (4, 3))\n",
    "    plt.bar(characters, values, width=0.6)\n",
    "    plt.xlabel(\"Character\")\n",
    "    plt.ylabel(\"Number of errors\")\n",
    "    plt.title(\"Errors for each character\")\n",
    "    plt.show()"
   ]
  },
  {
   "cell_type": "code",
   "execution_count": 270,
   "id": "98cc91ad-d6a8-49cf-bb7e-fa9aa5a722f3",
   "metadata": {},
   "outputs": [],
   "source": [
    "############## MAIN ##############\n",
    "(X_train, Y_train), (X_test, Y_test) = mnist.load_data()\n",
    "SCALE_FACTOR = 255\n",
    "WIDTH = X_train.shape[1]\n",
    "HEIGHT = X_train.shape[2]\n",
    "X_train = X_train.reshape(X_train.shape[0],WIDTH*HEIGHT).T / SCALE_FACTOR\n",
    "X_test = X_test.reshape(X_test.shape[0],WIDTH*HEIGHT).T  / SCALE_FACTOR"
   ]
  },
  {
   "cell_type": "code",
   "execution_count": 271,
   "id": "36adf063",
   "metadata": {},
   "outputs": [
    {
     "name": "stdout",
     "output_type": "stream",
     "text": [
      "--------------------------------\n",
      "X_train Shape: (784, 60000)\n",
      "Y_train Shape: (60000,)\n",
      "X_test Shape: (784, 10000)\n",
      "Y_test Shape: (10000,)\n",
      "--------------------------------\n"
     ]
    }
   ],
   "source": [
    "print(f'''--------------------------------\n",
    "X_train Shape: {X_train.shape}\n",
    "Y_train Shape: {Y_train.shape}\n",
    "X_test Shape: {X_test.shape}\n",
    "Y_test Shape: {Y_test.shape}\n",
    "--------------------------------''')"
   ]
  },
  {
   "cell_type": "code",
   "execution_count": 276,
   "id": "224042c5-cbd8-43a7-8aa4-317f685c228b",
   "metadata": {},
   "outputs": [
    {
     "name": "stdout",
     "output_type": "stream",
     "text": [
      "Iteration: 60 / 600\n",
      "74.335%\n",
      "Iteration: 120 / 600\n",
      "84.460%\n",
      "Iteration: 180 / 600\n",
      "87.368%\n",
      "Iteration: 240 / 600\n",
      "88.757%\n",
      "Iteration: 300 / 600\n",
      "89.565%\n",
      "Iteration: 360 / 600\n",
      "90.100%\n",
      "Iteration: 420 / 600\n",
      "90.590%\n",
      "Iteration: 480 / 600\n",
      "90.955%\n",
      "Iteration: 540 / 600\n",
      "91.198%\n",
      "Iteration: 600 / 600\n",
      "91.442%\n"
     ]
    }
   ],
   "source": [
    "W1, b1, W2, b2 = gradient_descent(X_train, Y_train, 0.25, 600)\n",
    "with open(\"trained_params.pkl\",\"wb\") as dump_file:\n",
    "    pickle.dump((W1, b1, W2, b2),dump_file)"
   ]
  },
  {
   "cell_type": "code",
   "execution_count": 282,
   "id": "7374cc7a-d27e-46f3-86d7-ad21a438e639",
   "metadata": {},
   "outputs": [],
   "source": [
    "with open(\"trained_params.pkl\",\"rb\") as dump_file:\n",
    "    W1, b1, W2, b2=pickle.load(dump_file)"
   ]
  },
  {
   "cell_type": "code",
   "execution_count": 296,
   "id": "d5b98fb7",
   "metadata": {},
   "outputs": [
    {
     "name": "stdout",
     "output_type": "stream",
     "text": [
      "Prediction:  [6]\n",
      "Label:  6\n"
     ]
    },
    {
     "data": {
      "image/png": "[encoded data removed]",
      "text/plain": [
       "<Figure size 20000x200 with 1 Axes>"
      ]
     },
     "metadata": {},
     "output_type": "display_data"
    }
   ],
   "source": [
    "show_prediction(11,X_test, Y_test, W1, b1, W2, b2)\n",
    "# show_prediction(1,X_test, Y_test, W1, b1, W2, b2)\n",
    "# show_prediction(2,X_test, Y_test, W1, b1, W2, b2)\n",
    "# show_prediction(100,X_test, Y_test, W1, b1, W2, b2)\n",
    "# show_prediction(250,X_test, Y_test, W1, b1, W2, b2)"
   ]
  },
  {
   "cell_type": "code",
   "execution_count": 290,
   "id": "621e45cc-cb94-4a74-a44e-63e0547515b9",
   "metadata": {},
   "outputs": [
    {
     "name": "stdout",
     "output_type": "stream",
     "text": [
      "Prediction:  [9]\n",
      "Label:  4\n"
     ]
    },
    {
     "data": {
      "text/plain": [
       "<Figure size 640x480 with 0 Axes>"
      ]
     },
     "metadata": {},
     "output_type": "display_data"
    },
    {
     "data": {
      "image/png": "[encoded data removed]",
      "text/plain": [
       "<Figure size 3000x200 with 1 Axes>"
      ]
     },
     "metadata": {},
     "output_type": "display_data"
    },
    {
     "name": "stdout",
     "output_type": "stream",
     "text": [
      "Prediction:  [6]\n",
      "Label:  8\n"
     ]
    },
    {
     "data": {
      "text/plain": [
       "<Figure size 640x480 with 0 Axes>"
      ]
     },
     "metadata": {},
     "output_type": "display_data"
    },
    {
     "data": {
      "image/png": "[encoded data removed]",
      "text/plain": [
       "<Figure size 3000x200 with 1 Axes>"
      ]
     },
     "metadata": {},
     "output_type": "display_data"
    },
    {
     "name": "stdout",
     "output_type": "stream",
     "text": [
      "Prediction:  [5]\n",
      "Label:  9\n"
     ]
    },
    {
     "data": {
      "text/plain": [
       "<Figure size 640x480 with 0 Axes>"
      ]
     },
     "metadata": {},
     "output_type": "display_data"
    },
    {
     "data": {
      "image/png": "[encoded data removed]",
      "text/plain": [
       "<Figure size 3000x200 with 1 Axes>"
      ]
     },
     "metadata": {},
     "output_type": "display_data"
    },
    {
     "name": "stdout",
     "output_type": "stream",
     "text": [
      "Prediction:  [3]\n",
      "Label:  5\n"
     ]
    },
    {
     "data": {
      "text/plain": [
       "<Figure size 640x480 with 0 Axes>"
      ]
     },
     "metadata": {},
     "output_type": "display_data"
    },
    {
     "data": {
      "image/png": "[encoded data removed]",
      "text/plain": [
       "<Figure size 3000x200 with 1 Axes>"
      ]
     },
     "metadata": {},
     "output_type": "display_data"
    },
    {
     "name": "stdout",
     "output_type": "stream",
     "text": [
      "Prediction:  [5]\n",
      "Label:  9\n"
     ]
    },
    {
     "data": {
      "text/plain": [
       "<Figure size 640x480 with 0 Axes>"
      ]
     },
     "metadata": {},
     "output_type": "display_data"
    },
    {
     "data": {
      "image/png": "[encoded data removed]",
      "text/plain": [
       "<Figure size 3000x200 with 1 Axes>"
      ]
     },
     "metadata": {},
     "output_type": "display_data"
    },
    {
     "name": "stdout",
     "output_type": "stream",
     "text": [
      "Prediction:  [9]\n",
      "Label:  3\n"
     ]
    },
    {
     "data": {
      "text/plain": [
       "<Figure size 640x480 with 0 Axes>"
      ]
     },
     "metadata": {},
     "output_type": "display_data"
    },
    {
     "data": {
      "image/png": "[encoded data removed]",
      "text/plain": [
       "<Figure size 3000x200 with 1 Axes>"
      ]
     },
     "metadata": {},
     "output_type": "display_data"
    },
    {
     "name": "stdout",
     "output_type": "stream",
     "text": [
      "Prediction:  [2]\n",
      "Label:  7\n"
     ]
    },
    {
     "data": {
      "text/plain": [
       "<Figure size 640x480 with 0 Axes>"
      ]
     },
     "metadata": {},
     "output_type": "display_data"
    },
    {
     "data": {
      "image/png": "[encoded data removed]",
      "text/plain": [
       "<Figure size 3000x200 with 1 Axes>"
      ]
     },
     "metadata": {},
     "output_type": "display_data"
    },
    {
     "name": "stdout",
     "output_type": "stream",
     "text": [
      "Prediction:  [8]\n",
      "Label:  2\n"
     ]
    },
    {
     "data": {
      "text/plain": [
       "<Figure size 640x480 with 0 Axes>"
      ]
     },
     "metadata": {},
     "output_type": "display_data"
    },
    {
     "data": {
      "image/png": "[encoded data removed]",
      "text/plain": [
       "<Figure size 3000x200 with 1 Axes>"
      ]
     },
     "metadata": {},
     "output_type": "display_data"
    },
    {
     "name": "stdout",
     "output_type": "stream",
     "text": [
      "Prediction:  [2]\n",
      "Label:  7\n"
     ]
    },
    {
     "data": {
      "text/plain": [
       "<Figure size 640x480 with 0 Axes>"
      ]
     },
     "metadata": {},
     "output_type": "display_data"
    },
    {
     "data": {
      "image/png": "[encoded data removed]",
      "text/plain": [
       "<Figure size 3000x200 with 1 Axes>"
      ]
     },
     "metadata": {},
     "output_type": "display_data"
    },
    {
     "name": "stdout",
     "output_type": "stream",
     "text": [
      "Prediction:  [5]\n",
      "Label:  0\n"
     ]
    },
    {
     "data": {
      "text/plain": [
       "<Figure size 640x480 with 0 Axes>"
      ]
     },
     "metadata": {},
     "output_type": "display_data"
    },
    {
     "data": {
      "image/png": "[encoded data removed]",
      "text/plain": [
       "<Figure size 3000x200 with 1 Axes>"
      ]
     },
     "metadata": {},
     "output_type": "display_data"
    },
    {
     "name": "stdout",
     "output_type": "stream",
     "text": [
      "10\n"
     ]
    }
   ],
   "source": [
    "\n",
    "show_wrong_predictions((8500,10000),X_test, Y_test, W1, b1, W2, b2,10)"
   ]
  },
  {
   "cell_type": "code",
   "execution_count": 279,
   "id": "566c167f",
   "metadata": {},
   "outputs": [
    {
     "name": "stdout",
     "output_type": "stream",
     "text": [
      "Total incorrect predictions in range:  891\n",
      "Prediction Accuracy in range:  8.91\n",
      "Error summary:  {8: 151, 5: 122, 2: 111, 9: 109, 3: 107, 4: 86, 7: 79, 6: 74, 0: 34, 1: 18}\n"
     ]
    },
    {
     "data": {
      "image/png": "[encoded data removed]",
      "text/plain": [
       "<Figure size 400x300 with 1 Axes>"
      ]
     },
     "metadata": {},
     "output_type": "display_data"
    }
   ],
   "source": [
    "error_details((0,10000),X_test, Y_test, W1, b1, W2, b2)"
   ]
  },
  {
   "cell_type": "code",
   "execution_count": null,
   "id": "3b224e59",
   "metadata": {},
   "outputs": [],
   "source": []
  },
  {
   "cell_type": "code",
   "execution_count": 84,
   "id": "93a2ee1f",
   "metadata": {},
   "outputs": [],
   "source": []
  },
  {
   "cell_type": "code",
   "execution_count": null,
   "id": "599d6934",
   "metadata": {},
   "outputs": [],
   "source": []
  },
  {
   "cell_type": "code",
   "execution_count": 122,
   "id": "7c3cbf45",
   "metadata": {},
   "outputs": [],
   "source": []
  },
  {
   "cell_type": "code",
   "execution_count": null,
   "id": "50872593",
   "metadata": {},
   "outputs": [],
   "source": []
  }
 ],
 "metadata": {
  "kernelspec": {
   "display_name": "Python 3 (ipykernel)",
   "language": "python",
   "name": "python3"
  },
  "language_info": {
   "codemirror_mode": {
    "name": "ipython",
    "version": 3
   },
   "file_extension": ".py",
   "mimetype": "text/x-python",
   "name": "python",
   "nbconvert_exporter": "python",
   "pygments_lexer": "ipython3",
   "version": "3.10.8"
  }
 },
 "nbformat": 4,
 "nbformat_minor": 5
}
